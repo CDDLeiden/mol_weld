{
 "cells": [
  {
   "cell_type": "markdown",
   "metadata": {},
   "source": [
    "# Import packages"
   ]
  },
  {
   "cell_type": "code",
   "execution_count": 21,
   "metadata": {},
   "outputs": [],
   "source": [
    "from rdkit import Chem\n",
    "from mol_weld.weld import weld_r_groups"
   ]
  },
  {
   "cell_type": "markdown",
   "metadata": {},
   "source": [
    "# Define core and substituent SMILES\n",
    "To denote R-groups in a SMILES string the placeholder [*:x] is used with x indicating the R-group number. The same is done for the substituent positions. So when adding a H atom give the SMILES of H-A (where A is the placeholder)\n",
    "\n",
    "In case a substituent consists of multiple attached groups (for example a trimethyl) or a group that is attached via multiple bonds, multiple placeholders need to be used.\n",
    "\n",
    "For example:\n",
    "* O([*:4])[*:4] for A-O-A\n",
    "* C[*:1].C[*:1].C[*:1] for adding 3 methyls C-A.C-A.C-A\n",
    "\n",
    "\\*dots represent fragments"
   ]
  },
  {
   "cell_type": "code",
   "execution_count": 38,
   "metadata": {},
   "outputs": [],
   "source": [
    "# example of how to make paracetamol\n",
    "\n",
    "smiles = 'C1([*:1])=CC=C([*:2])C=C1'\n",
    "\n",
    "R1 = 'O[*:1]'\n",
    "R2 = '[*:2]NC(=O)C'\n"
   ]
  },
  {
   "cell_type": "code",
   "execution_count": 39,
   "metadata": {},
   "outputs": [],
   "source": [
    "# turn SMILES into rdkit molecule\n",
    "core = Chem.MolFromSmiles(smiles)\n",
    "# make aromatic bonds explicit\n",
    "Chem.Kekulize(core, clearAromaticFlags=True)\n",
    "\n",
    "# do the same for r-groups\n",
    "rgroups = Chem.MolFromSmiles(R1)\n",
    "mol = Chem.MolFromSmiles(R2)\n",
    "# combine r-groups in the same rdkit mol object\n",
    "rgroups = Chem.CombineMols(rgroups, mol)\n",
    "\n",
    "Chem.Kekulize(rgroups, clearAromaticFlags=True)"
   ]
  },
  {
   "cell_type": "code",
   "execution_count": 40,
   "metadata": {},
   "outputs": [
    {
     "data": {
      "text/plain": [
       "'CC(=O)Nc1ccc(O)cc1'"
      ]
     },
     "execution_count": 40,
     "metadata": {},
     "output_type": "execute_result"
    }
   ],
   "source": [
    "welded_mol = weld_r_groups(core, rgroups)\n",
    "Chem.MolToSmiles(welded_mol)"
   ]
  }
 ],
 "metadata": {
  "kernelspec": {
   "display_name": "weld",
   "language": "python",
   "name": "python3"
  },
  "language_info": {
   "codemirror_mode": {
    "name": "ipython",
    "version": 3
   },
   "file_extension": ".py",
   "mimetype": "text/x-python",
   "name": "python",
   "nbconvert_exporter": "python",
   "pygments_lexer": "ipython3",
   "version": "3.13.0"
  }
 },
 "nbformat": 4,
 "nbformat_minor": 2
}
